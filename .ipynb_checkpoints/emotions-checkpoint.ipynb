{
 "cells": [
  {
   "cell_type": "code",
   "execution_count": 16,
   "id": "5c1720aa-d001-4c36-bc0b-9f8267484a62",
   "metadata": {
    "scrolled": true
   },
   "outputs": [
    {
     "name": "stdout",
     "output_type": "stream",
     "text": [
      "Requirement already satisfied: pandas in c:\\users\\rtx\\appdata\\local\\programs\\python\\python312\\lib\\site-packages (2.2.2)\n",
      "Requirement already satisfied: numpy in c:\\users\\rtx\\appdata\\local\\programs\\python\\python312\\lib\\site-packages (2.0.0)\n",
      "Requirement already satisfied: scikit-learn in c:\\users\\rtx\\appdata\\local\\programs\\python\\python312\\lib\\site-packages (1.6.1)\n",
      "Requirement already satisfied: transformers in c:\\users\\rtx\\appdata\\local\\programs\\python\\python312\\lib\\site-packages (4.48.3)\n",
      "Requirement already satisfied: python-dateutil>=2.8.2 in c:\\users\\rtx\\appdata\\local\\programs\\python\\python312\\lib\\site-packages (from pandas) (2.9.0.post0)\n",
      "Requirement already satisfied: pytz>=2020.1 in c:\\users\\rtx\\appdata\\local\\programs\\python\\python312\\lib\\site-packages (from pandas) (2024.1)\n",
      "Requirement already satisfied: tzdata>=2022.7 in c:\\users\\rtx\\appdata\\local\\programs\\python\\python312\\lib\\site-packages (from pandas) (2024.1)\n",
      "Requirement already satisfied: scipy>=1.6.0 in c:\\users\\rtx\\appdata\\local\\programs\\python\\python312\\lib\\site-packages (from scikit-learn) (1.15.1)\n",
      "Requirement already satisfied: joblib>=1.2.0 in c:\\users\\rtx\\appdata\\local\\programs\\python\\python312\\lib\\site-packages (from scikit-learn) (1.4.2)\n",
      "Requirement already satisfied: threadpoolctl>=3.1.0 in c:\\users\\rtx\\appdata\\local\\programs\\python\\python312\\lib\\site-packages (from scikit-learn) (3.5.0)\n",
      "Requirement already satisfied: filelock in c:\\users\\rtx\\appdata\\local\\programs\\python\\python312\\lib\\site-packages (from transformers) (3.17.0)\n",
      "Requirement already satisfied: huggingface-hub<1.0,>=0.24.0 in c:\\users\\rtx\\appdata\\local\\programs\\python\\python312\\lib\\site-packages (from transformers) (0.28.1)\n",
      "Requirement already satisfied: packaging>=20.0 in c:\\users\\rtx\\appdata\\local\\programs\\python\\python312\\lib\\site-packages (from transformers) (24.1)\n",
      "Requirement already satisfied: pyyaml>=5.1 in c:\\users\\rtx\\appdata\\local\\programs\\python\\python312\\lib\\site-packages (from transformers) (6.0.1)\n",
      "Requirement already satisfied: regex!=2019.12.17 in c:\\users\\rtx\\appdata\\local\\programs\\python\\python312\\lib\\site-packages (from transformers) (2024.5.15)\n",
      "Requirement already satisfied: requests in c:\\users\\rtx\\appdata\\local\\programs\\python\\python312\\lib\\site-packages (from transformers) (2.32.3)\n",
      "Requirement already satisfied: tokenizers<0.22,>=0.21 in c:\\users\\rtx\\appdata\\local\\programs\\python\\python312\\lib\\site-packages (from transformers) (0.21.0)\n",
      "Requirement already satisfied: safetensors>=0.4.1 in c:\\users\\rtx\\appdata\\local\\programs\\python\\python312\\lib\\site-packages (from transformers) (0.5.2)\n",
      "Requirement already satisfied: tqdm>=4.27 in c:\\users\\rtx\\appdata\\local\\programs\\python\\python312\\lib\\site-packages (from transformers) (4.66.4)\n",
      "Requirement already satisfied: fsspec>=2023.5.0 in c:\\users\\rtx\\appdata\\local\\programs\\python\\python312\\lib\\site-packages (from huggingface-hub<1.0,>=0.24.0->transformers) (2025.2.0)\n",
      "Requirement already satisfied: typing-extensions>=3.7.4.3 in c:\\users\\rtx\\appdata\\local\\programs\\python\\python312\\lib\\site-packages (from huggingface-hub<1.0,>=0.24.0->transformers) (4.12.2)\n",
      "Requirement already satisfied: six>=1.5 in c:\\users\\rtx\\appdata\\local\\programs\\python\\python312\\lib\\site-packages (from python-dateutil>=2.8.2->pandas) (1.16.0)\n",
      "Requirement already satisfied: colorama in c:\\users\\rtx\\appdata\\local\\programs\\python\\python312\\lib\\site-packages (from tqdm>=4.27->transformers) (0.4.6)\n",
      "Requirement already satisfied: charset-normalizer<4,>=2 in c:\\users\\rtx\\appdata\\local\\programs\\python\\python312\\lib\\site-packages (from requests->transformers) (3.3.2)\n",
      "Requirement already satisfied: idna<4,>=2.5 in c:\\users\\rtx\\appdata\\local\\programs\\python\\python312\\lib\\site-packages (from requests->transformers) (3.7)\n",
      "Requirement already satisfied: urllib3<3,>=1.21.1 in c:\\users\\rtx\\appdata\\local\\programs\\python\\python312\\lib\\site-packages (from requests->transformers) (2.2.2)\n",
      "Requirement already satisfied: certifi>=2017.4.17 in c:\\users\\rtx\\appdata\\local\\programs\\python\\python312\\lib\\site-packages (from requests->transformers) (2024.6.2)\n"
     ]
    },
    {
     "name": "stderr",
     "output_type": "stream",
     "text": [
      "\n",
      "[notice] A new release of pip is available: 24.1 -> 25.0\n",
      "[notice] To update, run: python.exe -m pip install --upgrade pip\n"
     ]
    }
   ],
   "source": [
    "!pip install pandas numpy scikit-learn transformers"
   ]
  },
  {
   "cell_type": "code",
   "execution_count": 17,
   "id": "b0d8b5ea-1a07-48ea-b1eb-d14b8aa03bda",
   "metadata": {},
   "outputs": [
    {
     "name": "stdout",
     "output_type": "stream",
     "text": [
      "Using device: cuda\n"
     ]
    }
   ],
   "source": [
    "# Block 2: Import necessary modules\n",
    "import torch\n",
    "import torch.nn as nn\n",
    "from torch.utils.data import Dataset, DataLoader\n",
    "import pandas as pd\n",
    "import numpy as np\n",
    "from sklearn.model_selection import train_test_split\n",
    "from sklearn.metrics import accuracy_score\n",
    "from transformers import BertTokenizer, BertModel\n",
    "# Check for CUDA availability\n",
    "device = torch.device('cuda' if torch.cuda.is_available() else 'cpu')\n",
    "print(f\"Using device: {device}\")"
   ]
  },
  {
   "cell_type": "code",
   "execution_count": 18,
   "id": "c88e8cec-52f6-4e6a-be5c-a7b2717e68ed",
   "metadata": {},
   "outputs": [],
   "source": [
    "# Block 3: Load and preprocess data\n",
    "class TextDataset(Dataset):\n",
    "    def __init__(self, texts, labels, tokenizer, max_len):\n",
    "        self.texts = texts\n",
    "        self.labels = labels\n",
    "        self.tokenizer = tokenizer\n",
    "        self.max_len = max_len\n",
    "        \n",
    "    def __len__(self):\n",
    "        return len(self.texts)\n",
    "    \n",
    "    def __getitem__(self, idx):\n",
    "        text = str(self.texts[idx])\n",
    "        label = self.labels[idx]\n",
    "        \n",
    "        encoding = self.tokenizer.encode_plus(\n",
    "            text,\n",
    "            add_special_tokens=True,\n",
    "            max_length=self.max_len,\n",
    "            return_token_type_ids=False,\n",
    "            padding='max_length',\n",
    "            truncation=True,\n",
    "            return_attention_mask=True,\n",
    "            return_tensors='pt',\n",
    "        )\n",
    "        \n",
    "        return {\n",
    "            'input_ids': encoding['input_ids'].flatten(),\n",
    "            'attention_mask': encoding['attention_mask'].flatten(),\n",
    "            'label': torch.tensor(label, dtype=torch.long)\n",
    "        }\n"
   ]
  },
  {
   "cell_type": "code",
   "execution_count": 19,
   "id": "9c37c22d-b05a-4298-8067-99809b8ad43b",
   "metadata": {},
   "outputs": [],
   "source": [
    "# Block 4: Define the model\n",
    "class EmotionClassifier(nn.Module):\n",
    "    def __init__(self, n_classes):\n",
    "        super(EmotionClassifier, self).__init__()\n",
    "        self.bert = BertModel.from_pretrained('bert-base-uncased')\n",
    "        self.drop = nn.Dropout(p=0.3)\n",
    "        self.out = nn.Linear(self.bert.config.hidden_size, n_classes)\n",
    "    \n",
    "    def forward(self, input_ids, attention_mask):\n",
    "        outputs = self.bert(\n",
    "            input_ids=input_ids,\n",
    "            attention_mask=attention_mask\n",
    "        )\n",
    "        pooled_output = outputs.pooler_output\n",
    "        output = self.drop(pooled_output)\n",
    "        return self.out(output)"
   ]
  },
  {
   "cell_type": "code",
   "execution_count": 20,
   "id": "2433c734-6336-4546-9a26-2600b8f1f29b",
   "metadata": {},
   "outputs": [],
   "source": [
    "# Block 5: Prepare data\n",
    "# Load your CSV file\n",
    "df = pd.read_csv(r'C:\\Users\\RTX\\Desktop\\newia\\emotions\\Emotion_classify_Data.csv',)  # Replace with your file path\n",
    "\n",
    "# Preprocess labels\n",
    "from sklearn.preprocessing import LabelEncoder\n",
    "le = LabelEncoder()\n",
    "df['label_encoded'] = le.fit_transform(df['Emotion'])\n",
    "\n",
    "# Split data\n",
    "train_df, test_df = train_test_split(df, test_size=0.2, random_state=42)\n",
    "\n",
    "# Initialize tokenizer\n",
    "tokenizer = BertTokenizer.from_pretrained('bert-base-uncased')\n",
    "MAX_LEN = 128\n",
    "BATCH_SIZE = 16\n",
    "\n",
    "# Create datasets and dataloaders\n",
    "train_dataset = TextDataset(\n",
    "    texts=train_df.text.values,\n",
    "    labels=train_df.label_encoded.values,\n",
    "    tokenizer=tokenizer,\n",
    "    max_len=MAX_LEN\n",
    ")\n",
    "\n",
    "test_dataset = TextDataset(\n",
    "    texts=test_df.text.values,\n",
    "    labels=test_df.label_encoded.values,\n",
    "    tokenizer=tokenizer,\n",
    "    max_len=MAX_LEN\n",
    ")\n",
    "\n",
    "train_loader = DataLoader(train_dataset, batch_size=BATCH_SIZE, shuffle=True)\n",
    "test_loader = DataLoader(test_dataset, batch_size=BATCH_SIZE)"
   ]
  },
  {
   "cell_type": "code",
   "execution_count": 21,
   "id": "91521f5d-e673-4a9a-9dda-44c491c325f5",
   "metadata": {},
   "outputs": [],
   "source": [
    "# Block 6: Training setup\n",
    "model = EmotionClassifier(n_classes=len(le.classes_)).to(device)\n",
    "optimizer = torch.optim.AdamW(model.parameters(), lr=2e-5)\n",
    "loss_fn = nn.CrossEntropyLoss().to(device)"
   ]
  },
  {
   "cell_type": "code",
   "execution_count": 22,
   "id": "742a3501-0469-411a-8ee5-9ec1c889af7a",
   "metadata": {},
   "outputs": [],
   "source": [
    "# Block 7: Training loop\n",
    "def train_epoch(model, data_loader, loss_fn, optimizer, device):\n",
    "    model.train()\n",
    "    losses = []\n",
    "    correct_predictions = 0\n",
    "    \n",
    "    progress_bar = tqdm(data_loader, desc=\"Training\", leave=True)\n",
    "    \n",
    "    for batch in progress_bar:\n",
    "        input_ids = batch['input_ids'].to(device)\n",
    "        attention_mask = batch['attention_mask'].to(device)\n",
    "        labels = batch['label'].to(device)\n",
    "\n",
    "        outputs = model(input_ids=input_ids, attention_mask=attention_mask)\n",
    "        _, preds = torch.max(outputs, dim=1)\n",
    "        loss = loss_fn(outputs, labels)\n",
    "\n",
    "        correct_predictions += torch.sum(preds == labels)\n",
    "        losses.append(loss.item())\n",
    "\n",
    "        loss.backward()\n",
    "        optimizer.step()\n",
    "        optimizer.zero_grad()\n",
    "\n",
    "        # Update progress bar\n",
    "        progress_bar.set_postfix(loss=loss.item())\n",
    "\n",
    "    return correct_predictions.double() / len(data_loader.dataset), np.mean(losses)"
   ]
  },
  {
   "cell_type": "code",
   "execution_count": 23,
   "id": "6d369f94-ff3d-4e0c-931a-b71b667bae23",
   "metadata": {},
   "outputs": [],
   "source": [
    "# Block 8: Evaluation function\n",
    "def eval_model(model, data_loader, loss_fn, device):\n",
    "    model = model.eval()\n",
    "    losses = []\n",
    "    correct_predictions = 0\n",
    "    \n",
    "    with torch.no_grad():\n",
    "        for batch in data_loader:\n",
    "            input_ids = batch['input_ids'].to(device)\n",
    "            attention_mask = batch['attention_mask'].to(device)\n",
    "            labels = batch['label'].to(device)\n",
    "            \n",
    "            outputs = model(\n",
    "                input_ids=input_ids,\n",
    "                attention_mask=attention_mask\n",
    "            )\n",
    "            \n",
    "            _, preds = torch.max(outputs, dim=1)\n",
    "            loss = loss_fn(outputs, labels)\n",
    "            \n",
    "            correct_predictions += torch.sum(preds == labels)\n",
    "            losses.append(loss.item())\n",
    "    \n",
    "    return correct_predictions.double() / len(data_loader.dataset), np.mean(losses)\n"
   ]
  },
  {
   "cell_type": "code",
   "execution_count": 24,
   "id": "5b896a76-67d3-4f37-a171-e07b3865b4c3",
   "metadata": {},
   "outputs": [
    {
     "name": "stdout",
     "output_type": "stream",
     "text": [
      "Train loader batches: 297\n",
      "Test loader batches: 75\n"
     ]
    }
   ],
   "source": [
    "print(f\"Train loader batches: {len(train_loader)}\")\n",
    "print(f\"Test loader batches: {len(test_loader)}\")"
   ]
  },
  {
   "cell_type": "code",
   "execution_count": 25,
   "id": "79c6c5e9-3e2b-4db5-a7e0-240c745344f6",
   "metadata": {},
   "outputs": [],
   "source": [
    "from tqdm import tqdm\n",
    "import sys\n"
   ]
  },
  {
   "cell_type": "code",
   "execution_count": 26,
   "id": "7b5a7dd5-570c-4887-9f25-5401ec39b469",
   "metadata": {},
   "outputs": [
    {
     "name": "stdout",
     "output_type": "stream",
     "text": [
      "\n",
      "Starting epoch 1...\n"
     ]
    },
    {
     "name": "stderr",
     "output_type": "stream",
     "text": [
      "Training: 100%|██████████████████████████████████████████████████████████| 297/297 [01:03<00:00,  4.71it/s, loss=0.244]\n"
     ]
    },
    {
     "name": "stdout",
     "output_type": "stream",
     "text": [
      "Epoch 1/5 - Train loss: 0.4510 Accuracy: 0.8176\n",
      "Test loss: 0.1917 Accuracy: 0.9360\n",
      "--------------------------------------------------\n",
      "\n",
      "Starting epoch 2...\n"
     ]
    },
    {
     "name": "stderr",
     "output_type": "stream",
     "text": [
      "Training: 100%|████████████████████████████████████████████████████████| 297/297 [01:01<00:00,  4.84it/s, loss=0.00871]\n"
     ]
    },
    {
     "name": "stdout",
     "output_type": "stream",
     "text": [
      "Epoch 2/5 - Train loss: 0.0982 Accuracy: 0.9657\n",
      "Test loss: 0.1186 Accuracy: 0.9579\n",
      "--------------------------------------------------\n",
      "\n",
      "Starting epoch 3...\n"
     ]
    },
    {
     "name": "stderr",
     "output_type": "stream",
     "text": [
      "Training: 100%|████████████████████████████████████████████████████████| 297/297 [01:01<00:00,  4.83it/s, loss=0.00583]\n"
     ]
    },
    {
     "name": "stdout",
     "output_type": "stream",
     "text": [
      "Epoch 3/5 - Train loss: 0.0484 Accuracy: 0.9827\n",
      "Test loss: 0.1311 Accuracy: 0.9604\n",
      "--------------------------------------------------\n",
      "\n",
      "Starting epoch 4...\n"
     ]
    },
    {
     "name": "stderr",
     "output_type": "stream",
     "text": [
      "Training: 100%|████████████████████████████████████████████████████████| 297/297 [01:01<00:00,  4.82it/s, loss=0.00298]\n"
     ]
    },
    {
     "name": "stdout",
     "output_type": "stream",
     "text": [
      "Epoch 4/5 - Train loss: 0.0355 Accuracy: 0.9869\n",
      "Test loss: 0.0942 Accuracy: 0.9638\n",
      "--------------------------------------------------\n",
      "\n",
      "Starting epoch 5...\n"
     ]
    },
    {
     "name": "stderr",
     "output_type": "stream",
     "text": [
      "Training: 100%|████████████████████████████████████████████████████████| 297/297 [01:01<00:00,  4.82it/s, loss=0.00765]\n"
     ]
    },
    {
     "name": "stdout",
     "output_type": "stream",
     "text": [
      "Epoch 5/5 - Train loss: 0.0315 Accuracy: 0.9884\n",
      "Test loss: 0.1407 Accuracy: 0.9579\n",
      "--------------------------------------------------\n"
     ]
    }
   ],
   "source": [
    "# Block 9: Run training\n",
    "EPOCHS = 5  # You can increase this\n",
    "\n",
    "# Training loop with debug prints\n",
    "for epoch in range(EPOCHS):\n",
    "    try:\n",
    "        print(f\"\\nStarting epoch {epoch + 1}...\")\n",
    "        train_acc, train_loss = train_epoch(model, train_loader, loss_fn, optimizer, device)\n",
    "        print(f\"Epoch {epoch + 1}/{EPOCHS} - Train loss: {train_loss:.4f} Accuracy: {train_acc:.4f}\")\n",
    "\n",
    "        test_acc, test_loss = eval_model(model, test_loader, loss_fn, device)\n",
    "        print(f\"Test loss: {test_loss:.4f} Accuracy: {test_acc:.4f}\")\n",
    "        print('-' * 50)\n",
    "        sys.stdout.flush()\n",
    "    except Exception as e:\n",
    "        print(f\"Error during training: {e}\")\n",
    "        break"
   ]
  },
  {
   "cell_type": "code",
   "execution_count": 27,
   "id": "53b29e96-3440-46de-8fd1-68031b86d0b9",
   "metadata": {},
   "outputs": [],
   "source": [
    "# Block 10: Save the model\n",
    "torch.save(model.state_dict(), 'emotion_classifier.pth')"
   ]
  },
  {
   "cell_type": "code",
   "execution_count": 28,
   "id": "727ddaab-b993-4cb2-b499-d0ef0f3c9247",
   "metadata": {},
   "outputs": [
    {
     "name": "stdout",
     "output_type": "stream",
     "text": [
      "Text: I'm really excited about this new project!\n",
      "Predicted emotion: joy\n"
     ]
    }
   ],
   "source": [
    "# Block 11: Example of testing with your own text\n",
    "def predict_emotion(text, model, tokenizer, le, device, max_len=128):\n",
    "    model.eval()\n",
    "    encoding = tokenizer.encode_plus(\n",
    "        text,\n",
    "        add_special_tokens=True,\n",
    "        max_length=max_len,\n",
    "        return_token_type_ids=False,\n",
    "        padding='max_length',\n",
    "        truncation=True,\n",
    "        return_attention_mask=True,\n",
    "        return_tensors='pt',\n",
    "    )\n",
    "    \n",
    "    input_ids = encoding['input_ids'].to(device)\n",
    "    attention_mask = encoding['attention_mask'].to(device)\n",
    "    \n",
    "    with torch.no_grad():\n",
    "        outputs = model(input_ids=input_ids, attention_mask=attention_mask)\n",
    "    \n",
    "    _, prediction = torch.max(outputs, dim=1)\n",
    "    predicted_label = le.inverse_transform(prediction.cpu().numpy())[0]\n",
    "    \n",
    "    return predicted_label\n",
    "\n",
    "# Example usage:\n",
    "test_text = \"I'm really excited about this new project!\"\n",
    "predicted_emotion = predict_emotion(test_text, model, tokenizer, le, device)\n",
    "print(f\"Text: {test_text}\")\n",
    "print(f\"Predicted emotion: {predicted_emotion}\")"
   ]
  },
  {
   "cell_type": "code",
   "execution_count": 29,
   "id": "395de979-1b78-40fc-a5a7-c9493787ca74",
   "metadata": {},
   "outputs": [
    {
     "name": "stdout",
     "output_type": "stream",
     "text": [
      "Text: im scared\n",
      "Predicted emotion: fear\n"
     ]
    }
   ],
   "source": [
    "# Example usage:\n",
    "test_text = \"im scared\"\n",
    "predicted_emotion = predict_emotion(test_text, model, tokenizer, le, device)\n",
    "print(f\"Text: {test_text}\")\n",
    "print(f\"Predicted emotion: {predicted_emotion}\")"
   ]
  },
  {
   "cell_type": "code",
   "execution_count": 30,
   "id": "e1844d9a-5b73-478b-8d6e-9aaa0cee2b87",
   "metadata": {},
   "outputs": [
    {
     "name": "stdout",
     "output_type": "stream",
     "text": [
      "['anger' 'fear' 'joy']\n"
     ]
    }
   ],
   "source": [
    "print(le.classes_)\n"
   ]
  },
  {
   "cell_type": "code",
   "execution_count": 35,
   "id": "d14a32a0-318a-4010-9fe7-f8b556f36975",
   "metadata": {},
   "outputs": [
    {
     "name": "stdout",
     "output_type": "stream",
     "text": [
      "Test dataset loaded successfully.\n",
      "                                               text Emotion\n",
      "0  I hate when people don't keep their commitments!   anger\n",
      "1            The sound of thunder always scares me.    fear\n",
      "2     I saw something move in the corner of my eye.    fear\n",
      "3    Dancing to my favorite song makes me so happy!     joy\n",
      "4                 I feel so disrespected right now!   anger\n"
     ]
    },
    {
     "data": {
      "image/png": "[encoded data removed]",
      "text/plain": [
       "<Figure size 1000x800 with 2 Axes>"
      ]
     },
     "metadata": {},
     "output_type": "display_data"
    },
    {
     "name": "stdout",
     "output_type": "stream",
     "text": [
      "Classification Report:\n",
      "              precision    recall  f1-score   support\n",
      "\n",
      "       anger       0.79      0.94      0.86        32\n",
      "        fear       1.00      0.73      0.85        30\n",
      "         joy       0.91      0.97      0.94        30\n",
      "\n",
      "    accuracy                           0.88        92\n",
      "   macro avg       0.90      0.88      0.88        92\n",
      "weighted avg       0.90      0.88      0.88        92\n",
      "\n"
     ]
    },
    {
     "data": {
      "image/png": "[encoded data removed]",
      "text/plain": [
       "<Figure size 1000x600 with 1 Axes>"
      ]
     },
     "metadata": {},
     "output_type": "display_data"
    }
   ],
   "source": [
    "import matplotlib.pyplot as plt\n",
    "import seaborn as sns\n",
    "from sklearn.metrics import confusion_matrix, classification_report\n",
    "\n",
    "# Load the test dataset\n",
    "test_df = pd.read_csv(r'C:\\Users\\RTX\\Desktop\\newia\\emotions\\test.csv')  # Use raw string for Windows path\n",
    "print(\"Test dataset loaded successfully.\")\n",
    "print(test_df.head())\n",
    "\n",
    "# Preprocess the test dataset\n",
    "test_df['label_encoded'] = le.transform(test_df['Emotion'])  # Encode emotions using the same LabelEncoder\n",
    "\n",
    "# Create a test dataset and dataloader\n",
    "test_dataset = TextDataset(\n",
    "    texts=test_df.text.values,\n",
    "    labels=test_df.label_encoded.values,\n",
    "    tokenizer=tokenizer,\n",
    "    max_len=MAX_LEN\n",
    ")\n",
    "\n",
    "test_loader = DataLoader(test_dataset, batch_size=BATCH_SIZE)\n",
    "\n",
    "# Evaluate the model on the test dataset\n",
    "def evaluate_model(model, data_loader, device):\n",
    "    model.eval()\n",
    "    predictions = []\n",
    "    actual_labels = []\n",
    "    \n",
    "    with torch.no_grad():\n",
    "        for batch in data_loader:\n",
    "            input_ids = batch['input_ids'].to(device)\n",
    "            attention_mask = batch['attention_mask'].to(device)\n",
    "            labels = batch['label'].to(device)\n",
    "            \n",
    "            outputs = model(input_ids=input_ids, attention_mask=attention_mask)\n",
    "            _, preds = torch.max(outputs, dim=1)\n",
    "            \n",
    "            predictions.extend(preds.cpu().numpy())\n",
    "            actual_labels.extend(labels.cpu().numpy())\n",
    "    \n",
    "    return actual_labels, predictions\n",
    "\n",
    "\n",
    "# Get predictions and actual labels\n",
    "actual_labels, predictions = evaluate_model(model, test_loader, device)\n",
    "# Decode labels back to emotion names\n",
    "actual_emotions = le.inverse_transform(actual_labels)\n",
    "predicted_emotions = le.inverse_transform(predictions)\n",
    "\n",
    "# Generate confusion matrix\n",
    "cm = confusion_matrix(actual_emotions, predicted_emotions, labels=le.classes_)\n",
    "\n",
    "# Plot confusion matrix\n",
    "plt.figure(figsize=(10, 8))\n",
    "sns.heatmap(cm, annot=True, fmt='d', cmap='Blues', xticklabels=le.classes_, yticklabels=le.classes_)\n",
    "plt.title('Confusion Matrix')\n",
    "plt.xlabel('Predicted Emotions')\n",
    "plt.ylabel('Actual Emotions')\n",
    "plt.show()\n",
    "\n",
    "# Generate classification report\n",
    "print(\"Classification Report:\")\n",
    "print(classification_report(actual_emotions, predicted_emotions, target_names=le.classes_))\n",
    "\n",
    "# Plot accuracy per emotion category\n",
    "emotion_accuracy = {}\n",
    "for emotion in le.classes_:\n",
    "    idx = le.transform([emotion])[0]\n",
    "    correct = np.sum((np.array(actual_labels) == idx) & (np.array(predictions) == idx))\n",
    "    total = np.sum(np.array(actual_labels) == idx)\n",
    "    emotion_accuracy[emotion] = correct / total if total > 0 else 0\n",
    "\n",
    "plt.figure(figsize=(10, 6))\n",
    "plt.bar(emotion_accuracy.keys(), emotion_accuracy.values(), color='skyblue')\n",
    "plt.title('Accuracy per Emotion Category')\n",
    "plt.xlabel('Emotion')\n",
    "plt.ylabel('Accuracy')\n",
    "plt.ylim(0, 1)\n",
    "plt.show()"
   ]
  },
  {
   "cell_type": "code",
   "execution_count": null,
   "id": "bcf3b1c6-3fa9-4b85-89a3-b28976401448",
   "metadata": {},
   "outputs": [],
   "source": []
  },
  {
   "cell_type": "code",
   "execution_count": null,
   "id": "0c69e551-a25c-481d-b25c-f576266b18b4",
   "metadata": {},
   "outputs": [],
   "source": []
  }
 ],
 "metadata": {
  "kernelspec": {
   "display_name": "Python 3 (ipykernel)",
   "language": "python",
   "name": "python3"
  },
  "language_info": {
   "codemirror_mode": {
    "name": "ipython",
    "version": 3
   },
   "file_extension": ".py",
   "mimetype": "text/x-python",
   "name": "python",
   "nbconvert_exporter": "python",
   "pygments_lexer": "ipython3",
   "version": "3.12.4"
  }
 },
 "nbformat": 4,
 "nbformat_minor": 5
}
