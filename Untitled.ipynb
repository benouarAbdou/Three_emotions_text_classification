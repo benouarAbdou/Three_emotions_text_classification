{
 "cells": [
  {
   "cell_type": "code",
   "execution_count": 5,
   "id": "455b0ae0-b0f9-423d-8f2f-12bb12a5e26a",
   "metadata": {
    "scrolled": true
   },
   "outputs": [
    {
     "ename": "NameError",
     "evalue": "name 'random' is not defined",
     "output_type": "error",
     "traceback": [
      "\u001b[1;31m---------------------------------------------------------------------------\u001b[0m",
      "\u001b[1;31mNameError\u001b[0m                                 Traceback (most recent call last)",
      "Cell \u001b[1;32mIn[5], line 34\u001b[0m\n\u001b[0;32m     32\u001b[0m all_sentences \u001b[38;5;241m=\u001b[39m []\n\u001b[0;32m     33\u001b[0m \u001b[38;5;28;01mwhile\u001b[39;00m \u001b[38;5;28mlen\u001b[39m(all_sentences) \u001b[38;5;241m<\u001b[39m \u001b[38;5;241m500\u001b[39m:\n\u001b[1;32m---> 34\u001b[0m     emotion \u001b[38;5;241m=\u001b[39m \u001b[43mrandom\u001b[49m\u001b[38;5;241m.\u001b[39mchoice([\u001b[38;5;124m\"\u001b[39m\u001b[38;5;124mJoy\u001b[39m\u001b[38;5;124m\"\u001b[39m, \u001b[38;5;124m\"\u001b[39m\u001b[38;5;124mAnger\u001b[39m\u001b[38;5;124m\"\u001b[39m, \u001b[38;5;124m\"\u001b[39m\u001b[38;5;124mFear\u001b[39m\u001b[38;5;124m\"\u001b[39m])\n\u001b[0;32m     35\u001b[0m     \u001b[38;5;28;01mif\u001b[39;00m emotion \u001b[38;5;241m==\u001b[39m \u001b[38;5;124m\"\u001b[39m\u001b[38;5;124mJoy\u001b[39m\u001b[38;5;124m\"\u001b[39m:\n\u001b[0;32m     36\u001b[0m         sentence_list \u001b[38;5;241m=\u001b[39m joy_sentences\n",
      "\u001b[1;31mNameError\u001b[0m: name 'random' is not defined"
     ]
    }
   ],
   "source": [
    "joy_sentences = [\n",
    "    \"I finally achieved my dream goal!\", \"The sun is shining, and I feel amazing!\", \"My best friend just gave me the perfect gift!\",\n",
    "    \"I got accepted into my dream university!\", \"Watching the sunset with my loved ones is so peaceful.\", \"I feel blessed to have such supportive friends.\",\n",
    "    \"The concert was incredible, I had the time of my life!\", \"I'm so excited for my upcoming vacation!\", \"Nothing beats the joy of spending time with family.\",\n",
    "    \"I just adopted a puppy, and I'm overwhelmed with happiness!\", \"Today was one of the best days of my life!\", \"I can't stop laughing, this joke is too funny!\",\n",
    "    \"I love the feeling of finishing a great book!\", \"I helped someone today, and it made me so happy!\", \"Dancing in the rain brings me pure joy.\",\n",
    "    \"I finally learned how to play my favorite song on the guitar!\", \"My hard work paid off, and I got promoted!\", \"My favorite team just won the championship!\",\n",
    "    \"There's nothing better than a warm hug from a loved one.\", \"I discovered a new hobby, and I love it!\"\n",
    "]\n",
    "\n",
    "anger_sentences = [\n",
    "    \"I can't believe they lied to me!\", \"Why does this always happen to me?\", \"I'm tired of being ignored!\",\n",
    "    \"This is so unfair, I deserve better!\", \"They promised me and then broke their word!\", \"I worked so hard, and they didn’t even appreciate it!\",\n",
    "    \"Traffic jams make me so frustrated!\", \"I hate when people don't keep their commitments!\", \"I feel so disrespected right now!\",\n",
    "    \"People should think before they speak!\", \"I can’t stand when someone takes credit for my work!\", \"Why do people have to be so rude?\",\n",
    "    \"I can't believe I lost my wallet!\", \"The WiFi stopped working again, this is ridiculous!\", \"Being late to an important meeting is so frustrating!\",\n",
    "    \"I hate when people interrupt me while I’m talking!\", \"My phone battery just died at the worst moment!\", \"I can't tolerate injustice!\",\n",
    "    \"I spent hours on this project, and now it's gone!\", \"I hate when people don’t listen to me!\"\n",
    "]\n",
    "\n",
    "fear_sentences = [\n",
    "    \"I heard a strange noise outside my window.\", \"Walking alone at night always makes me nervous.\", \"I have a feeling something bad is going to happen.\",\n",
    "    \"I'm scared of what the future holds.\", \"This dark forest is making me anxious.\", \"What if I fail the exam?\",\n",
    "    \"I feel like someone is following me.\", \"I hate the feeling of being lost in an unfamiliar place.\", \"My heart is racing, and I don’t know why.\",\n",
    "    \"What if I never achieve my dreams?\", \"I have to give a speech tomorrow, and I’m terrified!\", \"I saw a shadow move, but there's no one here.\",\n",
    "    \"The thought of losing a loved one scares me.\", \"What if I don’t make it in time?\", \"I feel uneasy about this decision.\",\n",
    "    \"That horror movie really shook me up.\", \"I have a bad feeling about this situation.\", \"I feel trapped, and I don’t know what to do.\",\n",
    "    \"I don’t want to be left alone in the dark.\", \"The unknown always scares me.\"\n",
    "]\n",
    "\n",
    "# Generate more unique sentences to reach 500\n",
    "all_sentences = []\n",
    "while len(all_sentences) < 500:\n",
    "    emotion = random.choice([\"Joy\", \"Anger\", \"Fear\"])\n",
    "    if emotion == \"Joy\":\n",
    "        sentence_list = joy_sentences\n",
    "    elif emotion == \"Anger\":\n",
    "        sentence_list = anger_sentences\n",
    "    else:\n",
    "        sentence_list = fear_sentences\n",
    "    \n",
    "    sentence = random.choice(sentence_list)\n",
    "    if sentence not in [s[0] for s in all_sentences]:  # Ensure uniqueness\n",
    "        all_sentences.append([sentence, emotion])\n",
    "\n",
    "# Save to CSV\n",
    "file_path = r\"C:\\Users\\RTX\\Desktop\\newia\\emotions\\emotion_sentences_unique.csv\"\n",
    "with open(file_path, mode='w', newline='', encoding='utf-8') as file:\n",
    "    writer = csv.writer(file)\n",
    "    writer.writerow([\"text\", \"Emotion\"])\n",
    "    writer.writerows(all_sentences)\n",
    "\n",
    "file_path"
   ]
  },
  {
   "cell_type": "code",
   "execution_count": 8,
   "id": "ee9b4745-bb3d-48c7-a997-067ecb83f649",
   "metadata": {},
   "outputs": [
    {
     "name": "stdout",
     "output_type": "stream",
     "text": [
      "19.0.0\n"
     ]
    }
   ],
   "source": [
    "import pyarrow\n",
    "print(pyarrow.__version__)"
   ]
  },
  {
   "cell_type": "code",
   "execution_count": null,
   "id": "4d79641c-5657-49e0-adc8-026eedd34162",
   "metadata": {},
   "outputs": [],
   "source": []
  }
 ],
 "metadata": {
  "kernelspec": {
   "display_name": "Python 3 (ipykernel)",
   "language": "python",
   "name": "python3"
  },
  "language_info": {
   "codemirror_mode": {
    "name": "ipython",
    "version": 3
   },
   "file_extension": ".py",
   "mimetype": "text/x-python",
   "name": "python",
   "nbconvert_exporter": "python",
   "pygments_lexer": "ipython3",
   "version": "3.12.4"
  }
 },
 "nbformat": 4,
 "nbformat_minor": 5
}
